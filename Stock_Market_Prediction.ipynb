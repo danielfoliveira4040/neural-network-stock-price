{
  "nbformat": 4,
  "nbformat_minor": 0,
  "metadata": {
    "kernelspec": {
      "display_name": "Python 3",
      "language": "python",
      "name": "python3"
    },
    "language_info": {
      "codemirror_mode": {
        "name": "ipython",
        "version": 3
      },
      "file_extension": ".py",
      "mimetype": "text/x-python",
      "name": "python",
      "nbconvert_exporter": "python",
      "pygments_lexer": "ipython3",
      "version": "3.6.7"
    },
    "varInspector": {
      "cols": {
        "lenName": 16,
        "lenType": 16,
        "lenVar": 40
      },
      "kernels_config": {
        "python": {
          "delete_cmd_postfix": "",
          "delete_cmd_prefix": "del ",
          "library": "var_list.py",
          "varRefreshCmd": "print(var_dic_list())"
        },
        "r": {
          "delete_cmd_postfix": ") ",
          "delete_cmd_prefix": "rm(",
          "library": "var_list.r",
          "varRefreshCmd": "cat(var_dic_list()) "
        }
      },
      "position": {
        "height": "388px",
        "left": "877px",
        "right": "20px",
        "top": "120px",
        "width": "543px"
      },
      "types_to_exclude": [
        "module",
        "function",
        "builtin_function_or_method",
        "instance",
        "_Feature"
      ],
      "window_display": false
    },
    "colab": {
      "name": "Stock Market Prediction.ipynb",
      "provenance": [],
      "collapsed_sections": [],
      "toc_visible": true,
      "include_colab_link": true
    }
  },
  "cells": [
    {
      "cell_type": "markdown",
      "metadata": {
        "id": "view-in-github",
        "colab_type": "text"
      },
      "source": [
        "<a href=\"https://colab.research.google.com/github/danielfoliveira4040/neural-network-stock-price/blob/main/Stock_Market_Prediction.ipynb\" target=\"_parent\"><img src=\"https://colab.research.google.com/assets/colab-badge.svg\" alt=\"Open In Colab\"/></a>"
      ]
    },
    {
      "cell_type": "markdown",
      "metadata": {
        "id": "AqcWNYyg8N5l"
      },
      "source": [
        "\n",
        "**CARREGAMENTO E TRATAMENTO DOS DADOS:**"
      ]
    },
    {
      "cell_type": "code",
      "metadata": {
        "colab": {
          "base_uri": "https://localhost:8080/"
        },
        "id": "8xNY-uxkR3Pv",
        "outputId": "5d08ba9a-8ccd-4fa1-9102-964cbd7d3130"
      },
      "source": [
        "!pip3 install numpy\n",
        "!pip3 install pandas\n",
        "!pip3 install matplotlib\n",
        "!pip3 install tensorflow\n",
        "!pip3 install scikit-learn\n",
        "!pip3 install keras"
      ],
      "execution_count": null,
      "outputs": [
        {
          "output_type": "stream",
          "name": "stdout",
          "text": [
            "Requirement already satisfied: numpy in /usr/local/lib/python3.7/dist-packages (1.19.5)\n",
            "Requirement already satisfied: pandas in /usr/local/lib/python3.7/dist-packages (1.1.5)\n",
            "Requirement already satisfied: python-dateutil>=2.7.3 in /usr/local/lib/python3.7/dist-packages (from pandas) (2.8.2)\n",
            "Requirement already satisfied: numpy>=1.15.4 in /usr/local/lib/python3.7/dist-packages (from pandas) (1.19.5)\n",
            "Requirement already satisfied: pytz>=2017.2 in /usr/local/lib/python3.7/dist-packages (from pandas) (2018.9)\n",
            "Requirement already satisfied: six>=1.5 in /usr/local/lib/python3.7/dist-packages (from python-dateutil>=2.7.3->pandas) (1.15.0)\n",
            "Requirement already satisfied: matplotlib in /usr/local/lib/python3.7/dist-packages (3.2.2)\n",
            "Requirement already satisfied: cycler>=0.10 in /usr/local/lib/python3.7/dist-packages (from matplotlib) (0.10.0)\n",
            "Requirement already satisfied: python-dateutil>=2.1 in /usr/local/lib/python3.7/dist-packages (from matplotlib) (2.8.2)\n",
            "Requirement already satisfied: pyparsing!=2.0.4,!=2.1.2,!=2.1.6,>=2.0.1 in /usr/local/lib/python3.7/dist-packages (from matplotlib) (2.4.7)\n",
            "Requirement already satisfied: numpy>=1.11 in /usr/local/lib/python3.7/dist-packages (from matplotlib) (1.19.5)\n",
            "Requirement already satisfied: kiwisolver>=1.0.1 in /usr/local/lib/python3.7/dist-packages (from matplotlib) (1.3.1)\n",
            "Requirement already satisfied: six in /usr/local/lib/python3.7/dist-packages (from cycler>=0.10->matplotlib) (1.15.0)\n",
            "Requirement already satisfied: tensorflow in /usr/local/lib/python3.7/dist-packages (2.6.0)\n",
            "Requirement already satisfied: typing-extensions~=3.7.4 in /usr/local/lib/python3.7/dist-packages (from tensorflow) (3.7.4.3)\n",
            "Requirement already satisfied: flatbuffers~=1.12.0 in /usr/local/lib/python3.7/dist-packages (from tensorflow) (1.12)\n",
            "Requirement already satisfied: tensorboard~=2.6 in /usr/local/lib/python3.7/dist-packages (from tensorflow) (2.6.0)\n",
            "Requirement already satisfied: termcolor~=1.1.0 in /usr/local/lib/python3.7/dist-packages (from tensorflow) (1.1.0)\n",
            "Requirement already satisfied: astunparse~=1.6.3 in /usr/local/lib/python3.7/dist-packages (from tensorflow) (1.6.3)\n",
            "Requirement already satisfied: keras~=2.6 in /usr/local/lib/python3.7/dist-packages (from tensorflow) (2.6.0)\n",
            "Requirement already satisfied: opt-einsum~=3.3.0 in /usr/local/lib/python3.7/dist-packages (from tensorflow) (3.3.0)\n",
            "Requirement already satisfied: numpy~=1.19.2 in /usr/local/lib/python3.7/dist-packages (from tensorflow) (1.19.5)\n",
            "Requirement already satisfied: absl-py~=0.10 in /usr/local/lib/python3.7/dist-packages (from tensorflow) (0.12.0)\n",
            "Requirement already satisfied: gast==0.4.0 in /usr/local/lib/python3.7/dist-packages (from tensorflow) (0.4.0)\n",
            "Requirement already satisfied: clang~=5.0 in /usr/local/lib/python3.7/dist-packages (from tensorflow) (5.0)\n",
            "Requirement already satisfied: keras-preprocessing~=1.1.2 in /usr/local/lib/python3.7/dist-packages (from tensorflow) (1.1.2)\n",
            "Requirement already satisfied: wrapt~=1.12.1 in /usr/local/lib/python3.7/dist-packages (from tensorflow) (1.12.1)\n",
            "Requirement already satisfied: six~=1.15.0 in /usr/local/lib/python3.7/dist-packages (from tensorflow) (1.15.0)\n",
            "Requirement already satisfied: wheel~=0.35 in /usr/local/lib/python3.7/dist-packages (from tensorflow) (0.37.0)\n",
            "Requirement already satisfied: h5py~=3.1.0 in /usr/local/lib/python3.7/dist-packages (from tensorflow) (3.1.0)\n",
            "Requirement already satisfied: protobuf>=3.9.2 in /usr/local/lib/python3.7/dist-packages (from tensorflow) (3.17.3)\n",
            "Requirement already satisfied: google-pasta~=0.2 in /usr/local/lib/python3.7/dist-packages (from tensorflow) (0.2.0)\n",
            "Requirement already satisfied: grpcio<2.0,>=1.37.0 in /usr/local/lib/python3.7/dist-packages (from tensorflow) (1.39.0)\n",
            "Requirement already satisfied: tensorflow-estimator~=2.6 in /usr/local/lib/python3.7/dist-packages (from tensorflow) (2.6.0)\n",
            "Requirement already satisfied: cached-property in /usr/local/lib/python3.7/dist-packages (from h5py~=3.1.0->tensorflow) (1.5.2)\n",
            "Requirement already satisfied: google-auth-oauthlib<0.5,>=0.4.1 in /usr/local/lib/python3.7/dist-packages (from tensorboard~=2.6->tensorflow) (0.4.5)\n",
            "Requirement already satisfied: werkzeug>=0.11.15 in /usr/local/lib/python3.7/dist-packages (from tensorboard~=2.6->tensorflow) (1.0.1)\n",
            "Requirement already satisfied: setuptools>=41.0.0 in /usr/local/lib/python3.7/dist-packages (from tensorboard~=2.6->tensorflow) (57.4.0)\n",
            "Requirement already satisfied: tensorboard-data-server<0.7.0,>=0.6.0 in /usr/local/lib/python3.7/dist-packages (from tensorboard~=2.6->tensorflow) (0.6.1)\n",
            "Requirement already satisfied: tensorboard-plugin-wit>=1.6.0 in /usr/local/lib/python3.7/dist-packages (from tensorboard~=2.6->tensorflow) (1.8.0)\n",
            "Requirement already satisfied: markdown>=2.6.8 in /usr/local/lib/python3.7/dist-packages (from tensorboard~=2.6->tensorflow) (3.3.4)\n",
            "Requirement already satisfied: google-auth<2,>=1.6.3 in /usr/local/lib/python3.7/dist-packages (from tensorboard~=2.6->tensorflow) (1.34.0)\n",
            "Requirement already satisfied: requests<3,>=2.21.0 in /usr/local/lib/python3.7/dist-packages (from tensorboard~=2.6->tensorflow) (2.23.0)\n",
            "Requirement already satisfied: cachetools<5.0,>=2.0.0 in /usr/local/lib/python3.7/dist-packages (from google-auth<2,>=1.6.3->tensorboard~=2.6->tensorflow) (4.2.2)\n",
            "Requirement already satisfied: rsa<5,>=3.1.4 in /usr/local/lib/python3.7/dist-packages (from google-auth<2,>=1.6.3->tensorboard~=2.6->tensorflow) (4.7.2)\n",
            "Requirement already satisfied: pyasn1-modules>=0.2.1 in /usr/local/lib/python3.7/dist-packages (from google-auth<2,>=1.6.3->tensorboard~=2.6->tensorflow) (0.2.8)\n",
            "Requirement already satisfied: requests-oauthlib>=0.7.0 in /usr/local/lib/python3.7/dist-packages (from google-auth-oauthlib<0.5,>=0.4.1->tensorboard~=2.6->tensorflow) (1.3.0)\n",
            "Requirement already satisfied: importlib-metadata in /usr/local/lib/python3.7/dist-packages (from markdown>=2.6.8->tensorboard~=2.6->tensorflow) (4.6.4)\n",
            "Requirement already satisfied: pyasn1<0.5.0,>=0.4.6 in /usr/local/lib/python3.7/dist-packages (from pyasn1-modules>=0.2.1->google-auth<2,>=1.6.3->tensorboard~=2.6->tensorflow) (0.4.8)\n",
            "Requirement already satisfied: idna<3,>=2.5 in /usr/local/lib/python3.7/dist-packages (from requests<3,>=2.21.0->tensorboard~=2.6->tensorflow) (2.10)\n",
            "Requirement already satisfied: chardet<4,>=3.0.2 in /usr/local/lib/python3.7/dist-packages (from requests<3,>=2.21.0->tensorboard~=2.6->tensorflow) (3.0.4)\n",
            "Requirement already satisfied: certifi>=2017.4.17 in /usr/local/lib/python3.7/dist-packages (from requests<3,>=2.21.0->tensorboard~=2.6->tensorflow) (2021.5.30)\n",
            "Requirement already satisfied: urllib3!=1.25.0,!=1.25.1,<1.26,>=1.21.1 in /usr/local/lib/python3.7/dist-packages (from requests<3,>=2.21.0->tensorboard~=2.6->tensorflow) (1.24.3)\n",
            "Requirement already satisfied: oauthlib>=3.0.0 in /usr/local/lib/python3.7/dist-packages (from requests-oauthlib>=0.7.0->google-auth-oauthlib<0.5,>=0.4.1->tensorboard~=2.6->tensorflow) (3.1.1)\n",
            "Requirement already satisfied: zipp>=0.5 in /usr/local/lib/python3.7/dist-packages (from importlib-metadata->markdown>=2.6.8->tensorboard~=2.6->tensorflow) (3.5.0)\n",
            "Requirement already satisfied: scikit-learn in /usr/local/lib/python3.7/dist-packages (0.22.2.post1)\n",
            "Requirement already satisfied: scipy>=0.17.0 in /usr/local/lib/python3.7/dist-packages (from scikit-learn) (1.4.1)\n",
            "Requirement already satisfied: numpy>=1.11.0 in /usr/local/lib/python3.7/dist-packages (from scikit-learn) (1.19.5)\n",
            "Requirement already satisfied: joblib>=0.11 in /usr/local/lib/python3.7/dist-packages (from scikit-learn) (1.0.1)\n",
            "Requirement already satisfied: keras in /usr/local/lib/python3.7/dist-packages (2.6.0)\n"
          ]
        }
      ]
    },
    {
      "cell_type": "markdown",
      "metadata": {
        "id": "5GWWg-4jKDtu"
      },
      "source": [
        "# Introdução\n",
        "\n",
        "O trabalho neste notebook explora um algoritmo de Aprendizado de Máquina denominado Rede Neural Recorrente (RNN), uma técnica de Deep Learning comum usada para reconhecimento de padrão de dados contínuos. A Rede Neural Recorrente leva em consideração como os dados mudam ao longo do tempo e normalmente é usada para dados de série temporal (preços de ações, leituras de sensores, etc.)\n",
        "\n",
        "Será feita uma tentativa de previsão do preço das ações de empresa Berkshire Hathaway utilizando seu histórico de preço desde o IPO na Nasdaq, uma das maiores bolsas de valores dos Estados Unidos.\n",
        "\n"
      ]
    },
    {
      "cell_type": "markdown",
      "metadata": {
        "id": "yQvw9U03KiYm"
      },
      "source": [
        "# Objetivo\n",
        "\n",
        "Foram utilizados dados do próprio mercado para realização do treino e das previsões. Os dados foram retirados especificamente da API do [Yahoo! Finance](https://finance.yahoo.com/quote/BRK-A/history). Os dados demandaram um nível muito básico de tratamento. Com algumas modificações via Excel já foi possível utilizá-los para o trabalho. Resumindo, não foi necessário nenhum tipo de tratamento via Pandas para utilização do dataset.\n",
        "\n",
        "As informações que compoem o dataset são:\n",
        "\n",
        "\n",
        "1.   Date: data do registro do pregão\n",
        "2.   Open: preço de abertura da ação\n",
        "3.   High: máxima de preço atingido no pregão\n",
        "4.   Low: mínima de preço atingido no pregão\n",
        "5.   Close: preço de fechamento do pregão\n",
        "6.   Volume: volume de negociação"
      ]
    },
    {
      "cell_type": "markdown",
      "metadata": {
        "id": "d5xjIisVMgGS"
      },
      "source": [
        "# Metodologia\n",
        "\n",
        "![](https://iamtrask.github.io/img/backprop_through_time.gif)\n",
        "\n",
        "Uma rede neural recorrente (RNN) é uma classe de redes neurais artificiais onde as conexões entre os nós formam um grafo digirido ao longo de uma série temporal. Isso permite que ele exiba um comportamento dinâmico temporal.\n",
        "\n",
        "Como as redes neurais de feedforward e convolucionais (CNNs), as redes neurais recorrentes utilizam dados de treinamento para aprender. O RNN se distingue por sua “memória”, pois recebe informações de entradas anteriores para influenciar a entrada e a saída atuais. Enquanto as redes neurais de deep learning tradicionais presumem que as entradas e saídas são independentes umas das outras, a saída das redes neurais recorrentes depende dos elementos anteriores dentro da sequência (vide figura acima)."
      ]
    },
    {
      "cell_type": "markdown",
      "metadata": {
        "id": "EHtSRPrfQyWv"
      },
      "source": [
        "# O problema (RNN Gradiente)\n",
        "\n",
        "O gradiente é usado para atualizar os pesos em um RNN, olhando para trás um certo número de etapas definidas pelo usuário. Quanto mais baixo o gradiente, mais difícil é atualizar os pesos (gradiente de dissipação) dos nós mais para trás no tempo. Especialmente porque as camadas anteriores são usadas como entradas para as camadas futuras. Isso significa que os neurônios antigos estão treinando muito mais devagar do que os neurônios atuais. É como um efeito dominó."
      ]
    },
    {
      "cell_type": "markdown",
      "metadata": {
        "id": "fdOfBaXoRgKg"
      },
      "source": [
        "# Solução (LSTM)\n",
        "\n",
        "A solução escolhida aqui foi o LSTM. O Long short-term memory (LSTM) é uma arquitetura de rede neural recorrente artificial (RNN) usada no campo do deep learning. Ao contrário das redes neurais feedforward padrão, o LSTM tem conexões de feedback. Ele pode processar não apenas pontos de dados únicos (como imagens), mas também sequências inteiras de dados (como fala ou vídeo). Por exemplo, o LSTM é aplicável a tarefas como reconhecimento de manuscrito, reconhecimento de voz e previsão para preço de ações, que é o nosso caso de estudo.\n",
        "\n",
        "![](https://www.researchgate.net/profile/Olivier-Risser-Maroix/publication/325929737/figure/fig1/AS:640313823617025@1529674120535/Cellule-de-type-LSTM.png)\n",
        "\n",
        "Uma unidade LSTM comum é composta de uma célula, uma porta de entrada, uma porta de saída e uma porta de esquecimento. A célula lembra valores em intervalos de tempo arbitrários e as três portas regulam o fluxo de informações para dentro e para fora da célula."
      ]
    },
    {
      "cell_type": "code",
      "metadata": {
        "colab": {
          "base_uri": "https://localhost:8080/",
          "height": 419
        },
        "id": "VaYoBtaqR3Px",
        "outputId": "e068a04d-35cf-4fd9-8d89-9843e17bb264"
      },
      "source": [
        "# Part 1 - Data Preprocessing\n",
        "#Bibliotecas básicas do python\n",
        "import numpy as np\n",
        "import matplotlib.pyplot as plt\n",
        "import pandas as pd\n",
        "\n",
        "\n",
        "dataset_train = pd.read_csv('https://gist.github.com/danielfoliveira4040/0967e21eae841c98e9dfe85fe87233c7#file-train-csv')\n",
        "training_set = dataset_train.iloc[:, 1:2].values\n",
        "\n",
        "#Bibliotecas para utilização do Sklearn\n",
        "from sklearn.preprocessing import MinMaxScaler\n",
        "sc = MinMaxScaler(feature_range = (0, 1))\n",
        "training_set_scaled = sc.fit_transform(training_set)\n",
        "\n",
        "X_train = []\n",
        "y_train = []\n",
        "for i in range(60, len(dataset_train)-1):\n",
        "    X_train.append(training_set_scaled[i-60:i, 0])\n",
        "    y_train.append(training_set_scaled[i, 0])\n",
        "X_train, y_train = np.array(X_train), np.array(y_train)\n",
        "\n",
        "X_train = np.reshape(X_train, (X_train.shape[0], X_train.shape[1], 1))\n",
        "\n",
        "dataset_train"
      ],
      "execution_count": null,
      "outputs": [
        {
          "output_type": "execute_result",
          "data": {
            "text/html": [
              "<div>\n",
              "<style scoped>\n",
              "    .dataframe tbody tr th:only-of-type {\n",
              "        vertical-align: middle;\n",
              "    }\n",
              "\n",
              "    .dataframe tbody tr th {\n",
              "        vertical-align: top;\n",
              "    }\n",
              "\n",
              "    .dataframe thead th {\n",
              "        text-align: right;\n",
              "    }\n",
              "</style>\n",
              "<table border=\"1\" class=\"dataframe\">\n",
              "  <thead>\n",
              "    <tr style=\"text-align: right;\">\n",
              "      <th></th>\n",
              "      <th>Date</th>\n",
              "      <th>Open</th>\n",
              "      <th>High</th>\n",
              "      <th>Low</th>\n",
              "      <th>Close</th>\n",
              "      <th>Volume</th>\n",
              "    </tr>\n",
              "  </thead>\n",
              "  <tbody>\n",
              "    <tr>\n",
              "      <th>0</th>\n",
              "      <td>5/9/1996</td>\n",
              "      <td>22.200001</td>\n",
              "      <td>24.400000</td>\n",
              "      <td>22.200001</td>\n",
              "      <td>23.200001</td>\n",
              "      <td>4290000</td>\n",
              "    </tr>\n",
              "    <tr>\n",
              "      <th>1</th>\n",
              "      <td>5/10/1996</td>\n",
              "      <td>24.000000</td>\n",
              "      <td>24.200001</td>\n",
              "      <td>23.600000</td>\n",
              "      <td>24.000000</td>\n",
              "      <td>1060000</td>\n",
              "    </tr>\n",
              "    <tr>\n",
              "      <th>2</th>\n",
              "      <td>5/13/1996</td>\n",
              "      <td>24.000000</td>\n",
              "      <td>24.100000</td>\n",
              "      <td>23.299999</td>\n",
              "      <td>23.900000</td>\n",
              "      <td>700000</td>\n",
              "    </tr>\n",
              "    <tr>\n",
              "      <th>3</th>\n",
              "      <td>5/14/1996</td>\n",
              "      <td>24.000000</td>\n",
              "      <td>24.100000</td>\n",
              "      <td>23.100000</td>\n",
              "      <td>23.600000</td>\n",
              "      <td>310000</td>\n",
              "    </tr>\n",
              "    <tr>\n",
              "      <th>4</th>\n",
              "      <td>5/15/1996</td>\n",
              "      <td>23.600000</td>\n",
              "      <td>23.700001</td>\n",
              "      <td>23.000000</td>\n",
              "      <td>23.200001</td>\n",
              "      <td>545000</td>\n",
              "    </tr>\n",
              "    <tr>\n",
              "      <th>...</th>\n",
              "      <td>...</td>\n",
              "      <td>...</td>\n",
              "      <td>...</td>\n",
              "      <td>...</td>\n",
              "      <td>...</td>\n",
              "      <td>...</td>\n",
              "    </tr>\n",
              "    <tr>\n",
              "      <th>5695</th>\n",
              "      <td>12/24/2018</td>\n",
              "      <td>190.699997</td>\n",
              "      <td>191.639999</td>\n",
              "      <td>187.110001</td>\n",
              "      <td>187.759995</td>\n",
              "      <td>5020600</td>\n",
              "    </tr>\n",
              "    <tr>\n",
              "      <th>5696</th>\n",
              "      <td>12/26/2018</td>\n",
              "      <td>188.649994</td>\n",
              "      <td>197.929993</td>\n",
              "      <td>186.100006</td>\n",
              "      <td>197.570007</td>\n",
              "      <td>7158200</td>\n",
              "    </tr>\n",
              "    <tr>\n",
              "      <th>5697</th>\n",
              "      <td>12/27/2018</td>\n",
              "      <td>195.600006</td>\n",
              "      <td>200.119995</td>\n",
              "      <td>191.899994</td>\n",
              "      <td>200.119995</td>\n",
              "      <td>7386800</td>\n",
              "    </tr>\n",
              "    <tr>\n",
              "      <th>5698</th>\n",
              "      <td>12/28/2018</td>\n",
              "      <td>200.720001</td>\n",
              "      <td>204.740005</td>\n",
              "      <td>200.199997</td>\n",
              "      <td>202.080002</td>\n",
              "      <td>5420600</td>\n",
              "    </tr>\n",
              "    <tr>\n",
              "      <th>5699</th>\n",
              "      <td>12/31/2018</td>\n",
              "      <td>204.229996</td>\n",
              "      <td>205.009995</td>\n",
              "      <td>201.000000</td>\n",
              "      <td>204.179993</td>\n",
              "      <td>5451900</td>\n",
              "    </tr>\n",
              "  </tbody>\n",
              "</table>\n",
              "<p>5700 rows × 6 columns</p>\n",
              "</div>"
            ],
            "text/plain": [
              "            Date        Open        High         Low       Close   Volume\n",
              "0       5/9/1996   22.200001   24.400000   22.200001   23.200001  4290000\n",
              "1      5/10/1996   24.000000   24.200001   23.600000   24.000000  1060000\n",
              "2      5/13/1996   24.000000   24.100000   23.299999   23.900000   700000\n",
              "3      5/14/1996   24.000000   24.100000   23.100000   23.600000   310000\n",
              "4      5/15/1996   23.600000   23.700001   23.000000   23.200001   545000\n",
              "...          ...         ...         ...         ...         ...      ...\n",
              "5695  12/24/2018  190.699997  191.639999  187.110001  187.759995  5020600\n",
              "5696  12/26/2018  188.649994  197.929993  186.100006  197.570007  7158200\n",
              "5697  12/27/2018  195.600006  200.119995  191.899994  200.119995  7386800\n",
              "5698  12/28/2018  200.720001  204.740005  200.199997  202.080002  5420600\n",
              "5699  12/31/2018  204.229996  205.009995  201.000000  204.179993  5451900\n",
              "\n",
              "[5700 rows x 6 columns]"
            ]
          },
          "metadata": {},
          "execution_count": 2
        }
      ]
    },
    {
      "cell_type": "code",
      "metadata": {
        "pycharm": {
          "is_executing": true
        },
        "colab": {
          "base_uri": "https://localhost:8080/"
        },
        "id": "c5sqJOxTR3P1",
        "outputId": "88bb8eec-6c1a-4e12-8ba9-018f89011265"
      },
      "source": [
        "# Part 2 - Building the RNN\n",
        "\n",
        "from keras.models import Sequential\n",
        "from keras.layers import Dense\n",
        "from keras.layers import LSTM\n",
        "from keras.layers import Dropout\n",
        "\n",
        "regressor = Sequential()\n",
        "\n",
        "regressor.add(LSTM(units = 50, return_sequences = True, input_shape = (X_train.shape[1], 1)))\n",
        "regressor.add(Dropout(0.2))\n",
        "\n",
        "regressor.add(LSTM(units = 50, return_sequences = True))\n",
        "regressor.add(Dropout(0.2))\n",
        "\n",
        "regressor.add(LSTM(units = 50, return_sequences = True))\n",
        "regressor.add(Dropout(0.2))\n",
        "\n",
        "\n",
        "regressor.add(LSTM(units = 50))\n",
        "regressor.add(Dropout(0.2))\n",
        "regressor.add(Dense(units = 1))\n",
        "regressor.compile(optimizer = 'adam', loss = 'mean_squared_error')\n",
        "\n",
        "regressor.fit(X_train, y_train, epochs = 100, batch_size = 32)\n"
      ],
      "execution_count": null,
      "outputs": [
        {
          "output_type": "stream",
          "name": "stdout",
          "text": [
            "Epoch 1/100\n",
            "177/177 [==============================] - 31s 134ms/step - loss: 0.0063\n",
            "Epoch 2/100\n",
            "177/177 [==============================] - 23s 132ms/step - loss: 0.0017\n",
            "Epoch 3/100\n",
            "177/177 [==============================] - 23s 129ms/step - loss: 0.0015\n",
            "Epoch 4/100\n",
            "177/177 [==============================] - 23s 128ms/step - loss: 0.0013\n",
            "Epoch 5/100\n",
            "177/177 [==============================] - 23s 129ms/step - loss: 0.0013\n",
            "Epoch 6/100\n",
            "177/177 [==============================] - 23s 129ms/step - loss: 0.0011\n",
            "Epoch 7/100\n",
            "177/177 [==============================] - 23s 129ms/step - loss: 0.0012\n",
            "Epoch 8/100\n",
            "177/177 [==============================] - 23s 129ms/step - loss: 0.0011\n",
            "Epoch 9/100\n",
            "177/177 [==============================] - 23s 129ms/step - loss: 9.7067e-04\n",
            "Epoch 10/100\n",
            "177/177 [==============================] - 22s 126ms/step - loss: 9.1556e-04\n",
            "Epoch 11/100\n",
            "177/177 [==============================] - 23s 129ms/step - loss: 8.4767e-04\n",
            "Epoch 12/100\n",
            "177/177 [==============================] - 23s 129ms/step - loss: 9.0711e-04\n",
            "Epoch 13/100\n",
            "177/177 [==============================] - 22s 127ms/step - loss: 8.5041e-04\n",
            "Epoch 14/100\n",
            "177/177 [==============================] - 22s 126ms/step - loss: 7.6865e-04\n",
            "Epoch 15/100\n",
            "177/177 [==============================] - 23s 128ms/step - loss: 7.4872e-04\n",
            "Epoch 16/100\n",
            "177/177 [==============================] - 22s 125ms/step - loss: 7.0782e-04\n",
            "Epoch 17/100\n",
            "177/177 [==============================] - 22s 127ms/step - loss: 8.0907e-04\n",
            "Epoch 18/100\n",
            "177/177 [==============================] - 23s 128ms/step - loss: 6.6232e-04\n",
            "Epoch 19/100\n",
            "177/177 [==============================] - 22s 127ms/step - loss: 8.0105e-04\n",
            "Epoch 20/100\n",
            "177/177 [==============================] - 22s 126ms/step - loss: 6.7183e-04\n",
            "Epoch 21/100\n",
            "177/177 [==============================] - 22s 126ms/step - loss: 6.6395e-04\n",
            "Epoch 22/100\n",
            "177/177 [==============================] - 23s 127ms/step - loss: 6.3864e-04\n",
            "Epoch 23/100\n",
            "177/177 [==============================] - 22s 125ms/step - loss: 6.5831e-04\n",
            "Epoch 24/100\n",
            "177/177 [==============================] - 23s 128ms/step - loss: 6.5595e-04\n",
            "Epoch 25/100\n",
            "177/177 [==============================] - 23s 129ms/step - loss: 8.2955e-04\n",
            "Epoch 26/100\n",
            "177/177 [==============================] - 23s 129ms/step - loss: 6.6853e-04\n",
            "Epoch 27/100\n",
            "177/177 [==============================] - 22s 124ms/step - loss: 6.6732e-04\n",
            "Epoch 28/100\n",
            "177/177 [==============================] - 22s 124ms/step - loss: 6.6397e-04\n",
            "Epoch 29/100\n",
            "177/177 [==============================] - 22s 124ms/step - loss: 6.1581e-04\n",
            "Epoch 30/100\n",
            "177/177 [==============================] - 22s 124ms/step - loss: 5.5320e-04\n",
            "Epoch 31/100\n",
            "177/177 [==============================] - 22s 124ms/step - loss: 6.2394e-04\n",
            "Epoch 32/100\n",
            "177/177 [==============================] - 22s 124ms/step - loss: 5.8515e-04\n",
            "Epoch 33/100\n",
            "177/177 [==============================] - 22s 123ms/step - loss: 6.0084e-04\n",
            "Epoch 34/100\n",
            "177/177 [==============================] - 22s 123ms/step - loss: 5.7242e-04\n",
            "Epoch 35/100\n",
            "177/177 [==============================] - 22s 125ms/step - loss: 5.4581e-04\n",
            "Epoch 36/100\n",
            "177/177 [==============================] - 22s 124ms/step - loss: 6.5375e-04\n",
            "Epoch 37/100\n",
            "177/177 [==============================] - 22s 123ms/step - loss: 5.6428e-04\n",
            "Epoch 38/100\n",
            "177/177 [==============================] - 22s 124ms/step - loss: 5.2019e-04\n",
            "Epoch 39/100\n",
            "177/177 [==============================] - 22s 124ms/step - loss: 6.0058e-04\n",
            "Epoch 40/100\n",
            "177/177 [==============================] - 22s 125ms/step - loss: 5.9064e-04\n",
            "Epoch 41/100\n",
            "177/177 [==============================] - 22s 124ms/step - loss: 5.5398e-04\n",
            "Epoch 42/100\n",
            "177/177 [==============================] - 22s 124ms/step - loss: 5.9187e-04\n",
            "Epoch 43/100\n",
            "177/177 [==============================] - 22s 125ms/step - loss: 5.4977e-04\n",
            "Epoch 44/100\n",
            "177/177 [==============================] - 22s 124ms/step - loss: 5.0903e-04\n",
            "Epoch 45/100\n",
            "177/177 [==============================] - 22s 123ms/step - loss: 6.1601e-04\n",
            "Epoch 46/100\n",
            "177/177 [==============================] - 22s 123ms/step - loss: 5.5603e-04\n",
            "Epoch 47/100\n",
            "177/177 [==============================] - 22s 124ms/step - loss: 5.6373e-04\n",
            "Epoch 48/100\n",
            "177/177 [==============================] - 22s 123ms/step - loss: 5.4390e-04\n",
            "Epoch 49/100\n",
            "177/177 [==============================] - 22s 124ms/step - loss: 5.0549e-04\n",
            "Epoch 50/100\n",
            "177/177 [==============================] - 22s 125ms/step - loss: 5.3272e-04\n",
            "Epoch 51/100\n",
            "177/177 [==============================] - 22s 126ms/step - loss: 6.0181e-04\n",
            "Epoch 52/100\n",
            "177/177 [==============================] - 22s 125ms/step - loss: 5.1487e-04\n",
            "Epoch 53/100\n",
            "177/177 [==============================] - 22s 124ms/step - loss: 5.8068e-04\n",
            "Epoch 54/100\n",
            "177/177 [==============================] - 22s 124ms/step - loss: 5.7764e-04\n",
            "Epoch 55/100\n",
            "177/177 [==============================] - 22s 125ms/step - loss: 5.8860e-04\n",
            "Epoch 56/100\n",
            "177/177 [==============================] - 22s 125ms/step - loss: 5.4135e-04\n",
            "Epoch 57/100\n",
            "177/177 [==============================] - 22s 124ms/step - loss: 5.3247e-04\n",
            "Epoch 58/100\n",
            "177/177 [==============================] - 22s 125ms/step - loss: 5.0666e-04\n",
            "Epoch 59/100\n",
            "177/177 [==============================] - 22s 125ms/step - loss: 5.0080e-04\n",
            "Epoch 60/100\n",
            "177/177 [==============================] - 22s 124ms/step - loss: 4.9489e-04\n",
            "Epoch 61/100\n",
            "177/177 [==============================] - 22s 124ms/step - loss: 5.2350e-04\n",
            "Epoch 62/100\n",
            "177/177 [==============================] - 22s 124ms/step - loss: 4.9080e-04\n",
            "Epoch 63/100\n",
            "177/177 [==============================] - 22s 124ms/step - loss: 4.7142e-04\n",
            "Epoch 64/100\n",
            "177/177 [==============================] - 22s 125ms/step - loss: 4.6893e-04\n",
            "Epoch 65/100\n",
            "177/177 [==============================] - 22s 123ms/step - loss: 4.8160e-04\n",
            "Epoch 66/100\n",
            "177/177 [==============================] - 22s 122ms/step - loss: 5.0508e-04\n",
            "Epoch 67/100\n",
            "177/177 [==============================] - 22s 122ms/step - loss: 4.9817e-04\n",
            "Epoch 68/100\n",
            "177/177 [==============================] - 22s 122ms/step - loss: 5.1243e-04\n",
            "Epoch 69/100\n",
            "177/177 [==============================] - 22s 123ms/step - loss: 4.7551e-04\n",
            "Epoch 70/100\n",
            "177/177 [==============================] - 22s 123ms/step - loss: 5.0327e-04\n",
            "Epoch 71/100\n",
            "177/177 [==============================] - 22s 122ms/step - loss: 4.7712e-04\n",
            "Epoch 72/100\n",
            "177/177 [==============================] - 22s 122ms/step - loss: 4.5980e-04\n",
            "Epoch 73/100\n",
            "177/177 [==============================] - 22s 123ms/step - loss: 4.6509e-04\n",
            "Epoch 74/100\n",
            "177/177 [==============================] - 22s 124ms/step - loss: 5.0861e-04\n",
            "Epoch 75/100\n",
            "177/177 [==============================] - 22s 125ms/step - loss: 5.2317e-04\n",
            "Epoch 76/100\n",
            "177/177 [==============================] - 22s 125ms/step - loss: 4.2969e-04\n",
            "Epoch 77/100\n",
            "177/177 [==============================] - 22s 126ms/step - loss: 5.0231e-04\n",
            "Epoch 78/100\n",
            "177/177 [==============================] - 22s 125ms/step - loss: 5.0290e-04\n",
            "Epoch 79/100\n",
            "177/177 [==============================] - 22s 126ms/step - loss: 4.8017e-04\n",
            "Epoch 80/100\n",
            "177/177 [==============================] - 23s 129ms/step - loss: 4.9203e-04\n",
            "Epoch 81/100\n",
            "177/177 [==============================] - 23s 127ms/step - loss: 4.6315e-04\n",
            "Epoch 82/100\n",
            "177/177 [==============================] - 23s 128ms/step - loss: 4.5939e-04\n",
            "Epoch 83/100\n",
            "177/177 [==============================] - 23s 128ms/step - loss: 4.6568e-04\n",
            "Epoch 84/100\n",
            "177/177 [==============================] - 23s 129ms/step - loss: 4.6258e-04\n",
            "Epoch 85/100\n",
            "177/177 [==============================] - 22s 126ms/step - loss: 4.4115e-04\n",
            "Epoch 86/100\n",
            "177/177 [==============================] - 23s 128ms/step - loss: 4.5436e-04\n",
            "Epoch 87/100\n",
            "177/177 [==============================] - 22s 125ms/step - loss: 4.6286e-04\n",
            "Epoch 88/100\n",
            "177/177 [==============================] - 22s 126ms/step - loss: 4.4019e-04\n",
            "Epoch 89/100\n",
            "177/177 [==============================] - 23s 127ms/step - loss: 4.9734e-04\n",
            "Epoch 90/100\n",
            "177/177 [==============================] - 23s 128ms/step - loss: 4.7585e-04\n",
            "Epoch 91/100\n",
            "177/177 [==============================] - 22s 126ms/step - loss: 4.8313e-04\n",
            "Epoch 92/100\n",
            "177/177 [==============================] - 22s 126ms/step - loss: 4.4204e-04\n",
            "Epoch 93/100\n",
            "177/177 [==============================] - 22s 125ms/step - loss: 4.4429e-04\n",
            "Epoch 94/100\n",
            "177/177 [==============================] - 22s 125ms/step - loss: 4.8696e-04\n",
            "Epoch 95/100\n",
            "177/177 [==============================] - 23s 127ms/step - loss: 4.4008e-04\n",
            "Epoch 96/100\n",
            "177/177 [==============================] - 22s 127ms/step - loss: 4.5649e-04\n",
            "Epoch 97/100\n",
            "177/177 [==============================] - 22s 127ms/step - loss: 5.1153e-04\n",
            "Epoch 98/100\n",
            "177/177 [==============================] - 22s 126ms/step - loss: 4.5322e-04\n",
            "Epoch 99/100\n",
            "177/177 [==============================] - 22s 125ms/step - loss: 5.0405e-04\n",
            "Epoch 100/100\n",
            "177/177 [==============================] - 22s 126ms/step - loss: 4.8478e-04\n"
          ]
        },
        {
          "output_type": "execute_result",
          "data": {
            "text/plain": [
              "<keras.callbacks.History at 0x7f3aadaf67d0>"
            ]
          },
          "metadata": {},
          "execution_count": 3
        }
      ]
    },
    {
      "cell_type": "markdown",
      "metadata": {
        "id": "sL9iwNoxYrm5"
      },
      "source": [
        "# Previsões"
      ]
    },
    {
      "cell_type": "code",
      "metadata": {
        "pycharm": {
          "is_executing": true
        },
        "colab": {
          "base_uri": "https://localhost:8080/",
          "height": 295
        },
        "id": "E-eJeRjXR3P2",
        "outputId": "88fca1d0-ff60-4f22-8c24-47eb497d834d"
      },
      "source": [
        "# Part 3 - Making the predictions and visualising the results\n",
        "\n",
        "dataset_test = pd.read_csv('https://gist.github.com/danielfoliveira4040/7424ec86d261e7562c96f67e2aba5f96')\n",
        "real_stock_price = dataset_test.iloc[:, 1:2].values\n",
        "\n",
        "dataset_total = pd.concat((dataset_train['Open'], dataset_test['Open']), axis = 0)\n",
        "inputs = dataset_total[len(dataset_total) - len(dataset_test) - 60:].values\n",
        "inputs = inputs.reshape(-1,1)\n",
        "inputs = sc.transform(inputs)\n",
        "X_test = []\n",
        "\n",
        "for i in range(60, 60+len(dataset_test)-1):\n",
        "    X_test.append(inputs[i-60:i, 0])\n",
        "\n",
        "X_test = np.array(X_test)\n",
        "X_test = np.reshape(X_test, (X_test.shape[0], X_test.shape[1], 1))\n",
        "predicted_stock_price = regressor.predict(X_test)\n",
        "predicted_stock_price = sc.inverse_transform(predicted_stock_price)\n",
        "\n",
        "\n",
        "plt.plot(real_stock_price, color = 'red', label = 'Real Berkshire Stock Price')\n",
        "plt.plot(predicted_stock_price, color = 'blue', label = 'Predicted Berkshire Stock Price')\n",
        "plt.title('Berkshire Stock Price Prediction')\n",
        "plt.xlabel('Time')\n",
        "plt.ylabel('Berkshire Stock Price')\n",
        "plt.legend()\n",
        "plt.show()\n"
      ],
      "execution_count": null,
      "outputs": [
        {
          "output_type": "display_data",
          "data": {
            "image/png": "[encoded data removed]",
            "text/plain": [
              "<Figure size 432x288 with 1 Axes>"
            ]
          },
          "metadata": {
            "needs_background": "light"
          }
        }
      ]
    },
    {
      "cell_type": "markdown",
      "metadata": {
        "id": "YhVharJrYx17"
      },
      "source": [
        "![download.png](data:image/png;base64,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)"
      ]
    },
    {
      "cell_type": "markdown",
      "metadata": {
        "id": "lVMaD4TZY318"
      },
      "source": [
        "Os resultados acima foram atingidos a partir de um treinamento com os dados de 1996 a 2018 e um teste com o ano completo de 2019. Conseguimos resultados bastante atrativos, apesar de não utilizáveis na prática"
      ]
    },
    {
      "cell_type": "markdown",
      "metadata": {
        "id": "hm7tPQ1RZMMU"
      },
      "source": [
        "![download (1).png](data:image/png;base64,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)"
      ]
    },
    {
      "cell_type": "markdown",
      "metadata": {
        "id": "x_OwXEhqZS4N"
      },
      "source": [
        "Entretanto, podemos ver que outros testes não se deram tão bem. O treino de 1996 a 2020 com testes em 2021 não obteve resultados satisfatórios. Podemos atribuir a acurácia baixa ao evento de pandemia que estamos vivendo desde 2020 que afetou fortemente o mercado financeiro, criando tendências fora do padrão. Como os dados utilizados no dataset se resumem exclusivamente ao preço da ação, a rede neural não tem conhecimento desse fato relevante."
      ]
    },
    {
      "cell_type": "markdown",
      "metadata": {
        "id": "NCp-wg1hZxX9"
      },
      "source": [
        "# Conclusão\n",
        "\n",
        "O trabalho foi desenvolvido com sucesso, obtendo-se um resultado interessante para uma primeira tentativa de previsão. Levando em consideração o número baixo e de alta correlação entre features, sabe-se que existem muitas possibilidades de otimização que certamente tenderiam a melhorar a performance da rede, obtendo-se assim resultados mais satisfatórios. Outro caminho possível de melhoria poderia ser a análise de outras ações dos mesmos setores ou com outro tipo de correlação, a fim de refinar ainda mais o modelo.\n",
        "\n",
        "Os percalços encontrados no processo foram ferramentas de aprendizado que serão de grande utilidade para futuras demandas em outras disciplinas. A continuação da matéria foi devidamente aproveitada para conectar o conhecimento dos trabalhos anteriores e realizar algo ainda mais interessante neste último."
      ]
    }
  ]
}